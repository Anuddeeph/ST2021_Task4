{
 "cells": [
  {
   "cell_type": "code",
   "execution_count": 18,
   "id": "4ae4c2fe",
   "metadata": {},
   "outputs": [],
   "source": [
    "import numpy as np, cv2\n",
    "#return image data in array\n",
    "bear = cv2.imread(\"Bear.jpg\")\n",
    "desert= cv2.imread(\"desert.jpg\")"
   ]
  },
  {
   "cell_type": "code",
   "execution_count": 19,
   "id": "386b0236",
   "metadata": {},
   "outputs": [],
   "source": [
    "cv2.imshow(\"Bear\",bear)\n",
    "cv2.waitKey()\n",
    "cv2.destroyAllWindows()"
   ]
  },
  {
   "cell_type": "code",
   "execution_count": 20,
   "id": "5e1af324",
   "metadata": {},
   "outputs": [],
   "source": [
    "cv2.imshow(\"Desert\",desert)\n",
    "cv2.waitKey()\n",
    "cv2.destroyAllWindows()"
   ]
  },
  {
   "cell_type": "code",
   "execution_count": 21,
   "id": "bd888144",
   "metadata": {},
   "outputs": [
    {
     "data": {
      "text/plain": [
       "(333, 500, 3)"
      ]
     },
     "execution_count": 21,
     "metadata": {},
     "output_type": "execute_result"
    }
   ],
   "source": [
    "bear.shape"
   ]
  },
  {
   "cell_type": "code",
   "execution_count": 22,
   "id": "f0584cb1",
   "metadata": {},
   "outputs": [
    {
     "data": {
      "text/plain": [
       "(333, 500, 3)"
      ]
     },
     "execution_count": 22,
     "metadata": {},
     "output_type": "execute_result"
    }
   ],
   "source": [
    "desert.shape"
   ]
  },
  {
   "cell_type": "code",
   "execution_count": 23,
   "id": "e525474c",
   "metadata": {},
   "outputs": [],
   "source": [
    "#swapping\n",
    "bear_crop = bear[50:270,150:420]\n",
    "desert[50:270,150:420] = bear_crop\n",
    "cv2.imshow(\"new\",desert)\n",
    "cv2.waitKey()\n",
    "cv2.destroyAllWindows()"
   ]
  },
  {
   "cell_type": "code",
   "execution_count": 24,
   "id": "9efc638f",
   "metadata": {},
   "outputs": [],
   "source": [
    "bear = cv2.imread(\"Bear.jpg\")\n",
    "desert= cv2.imread(\"desert.jpg\")"
   ]
  },
  {
   "cell_type": "code",
   "execution_count": 25,
   "id": "6c4d5f53",
   "metadata": {},
   "outputs": [],
   "source": [
    "#swapping\n",
    "des_crop = desert[50:270,150:420]\n",
    "bear[50:270,150:420] = des_crop\n",
    "cv2.imshow(\"new\",bear)\n",
    "cv2.waitKey()\n",
    "cv2.destroyAllWindows()"
   ]
  },
  {
   "cell_type": "code",
   "execution_count": null,
   "id": "9910f7c3",
   "metadata": {},
   "outputs": [],
   "source": []
  }
 ],
 "metadata": {
  "kernelspec": {
   "display_name": "Python 3",
   "language": "python",
   "name": "python3"
  },
  "language_info": {
   "codemirror_mode": {
    "name": "ipython",
    "version": 3
   },
   "file_extension": ".py",
   "mimetype": "text/x-python",
   "name": "python",
   "nbconvert_exporter": "python",
   "pygments_lexer": "ipython3",
   "version": "3.8.8"
  }
 },
 "nbformat": 4,
 "nbformat_minor": 5
}
