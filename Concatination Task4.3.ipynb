{
 "cells": [
  {
   "cell_type": "code",
   "execution_count": 6,
   "id": "78cef2bb",
   "metadata": {},
   "outputs": [],
   "source": [
    "import cv2"
   ]
  },
  {
   "cell_type": "code",
   "execution_count": 7,
   "id": "145f0360",
   "metadata": {},
   "outputs": [],
   "source": [
    "bear = cv2.imread(\"Bear.jpg\")\n",
    "building = cv2.imread(\"Building.jpg\")"
   ]
  },
  {
   "cell_type": "code",
   "execution_count": 8,
   "id": "6a33a7c2",
   "metadata": {},
   "outputs": [],
   "source": [
    "bear_resize = cv2.resize(bear,(200,200))\n",
    "building_resize = cv2.resize(building,(200,200))"
   ]
  },
  {
   "cell_type": "code",
   "execution_count": 9,
   "id": "e3e2b905",
   "metadata": {},
   "outputs": [],
   "source": [
    "h_concat = cv2.hconcat([building_resize , bear_resize])\n",
    "cv2.imshow(\"concate\",h_concat)\n",
    "cv2.waitKey()\n",
    "cv2.destroyAllWindows()"
   ]
  },
  {
   "cell_type": "code",
   "execution_count": 10,
   "id": "262c139f",
   "metadata": {},
   "outputs": [],
   "source": [
    "v_concat = cv2.vconcat([building_resize , bear_resize])\n",
    "cv2.imshow(\"concate\",v_concat)\n",
    "cv2.waitKey()\n",
    "cv2.destroyAllWindows()"
   ]
  },
  {
   "cell_type": "code",
   "execution_count": null,
   "id": "14751840",
   "metadata": {},
   "outputs": [],
   "source": []
  }
 ],
 "metadata": {
  "kernelspec": {
   "display_name": "Python 3",
   "language": "python",
   "name": "python3"
  },
  "language_info": {
   "codemirror_mode": {
    "name": "ipython",
    "version": 3
   },
   "file_extension": ".py",
   "mimetype": "text/x-python",
   "name": "python",
   "nbconvert_exporter": "python",
   "pygments_lexer": "ipython3",
   "version": "3.8.8"
  }
 },
 "nbformat": 4,
 "nbformat_minor": 5
}
