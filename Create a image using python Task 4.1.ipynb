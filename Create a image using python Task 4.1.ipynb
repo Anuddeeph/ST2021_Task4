{
 "cells": [
  {
   "cell_type": "code",
   "execution_count": 1,
   "id": "e4fdcc29",
   "metadata": {},
   "outputs": [],
   "source": [
    "import cv2, numpy as np"
   ]
  },
  {
   "cell_type": "code",
   "execution_count": 2,
   "id": "8f9a5e7b",
   "metadata": {},
   "outputs": [],
   "source": [
    "img = np.zeros([400,400,3])"
   ]
  },
  {
   "cell_type": "code",
   "execution_count": 3,
   "id": "8ffdee72",
   "metadata": {},
   "outputs": [],
   "source": [
    "img = cv2.line(img,(200, 30),(160,90),(0,0,190),5)"
   ]
  },
  {
   "cell_type": "code",
   "execution_count": 4,
   "id": "6e2263d5",
   "metadata": {},
   "outputs": [],
   "source": [
    "img = cv2.line(img,(200, 30),(240,90),(0,0,190),5)"
   ]
  },
  {
   "cell_type": "code",
   "execution_count": 5,
   "id": "642cc613",
   "metadata": {},
   "outputs": [],
   "source": [
    "img = cv2.line(img,(160, 90),(180,130),(0,0,190),5)"
   ]
  },
  {
   "cell_type": "code",
   "execution_count": 6,
   "id": "b1a7ea18",
   "metadata": {},
   "outputs": [],
   "source": [
    "img = cv2.line(img,(240, 90),(220,130),(0,0,190),5)"
   ]
  },
  {
   "cell_type": "code",
   "execution_count": 7,
   "id": "e335ece9",
   "metadata": {},
   "outputs": [],
   "source": [
    "img = cv2.line(img,(180, 130),(130,110),(0,0,190),5)"
   ]
  },
  {
   "cell_type": "code",
   "execution_count": 8,
   "id": "579d0c38",
   "metadata": {},
   "outputs": [],
   "source": [
    "img = cv2.line(img,(220, 130),(270,110),(0,0,190),5)"
   ]
  },
  {
   "cell_type": "code",
   "execution_count": 9,
   "id": "d5f79937",
   "metadata": {},
   "outputs": [],
   "source": [
    "img = cv2.line(img,(130, 110),(70,150),(0,0,190),5)"
   ]
  },
  {
   "cell_type": "code",
   "execution_count": 10,
   "id": "37fedeff",
   "metadata": {},
   "outputs": [],
   "source": [
    "img = cv2.line(img,(270, 110),(330,150),(0,0,190),5)"
   ]
  },
  {
   "cell_type": "code",
   "execution_count": 11,
   "id": "b1461e80",
   "metadata": {},
   "outputs": [],
   "source": [
    "img = cv2.line(img,(70, 150),(130,190),(0,0,190),5)"
   ]
  },
  {
   "cell_type": "code",
   "execution_count": 12,
   "id": "a2326523",
   "metadata": {},
   "outputs": [],
   "source": [
    "img = cv2.line(img,(330, 150),(270,190),(0,0,190),5)"
   ]
  },
  {
   "cell_type": "code",
   "execution_count": 13,
   "id": "81ebdec3",
   "metadata": {},
   "outputs": [],
   "source": [
    "img = cv2.line(img,(130, 190),(180,170),(0,0,190),5)"
   ]
  },
  {
   "cell_type": "code",
   "execution_count": 14,
   "id": "f98e82b6",
   "metadata": {},
   "outputs": [],
   "source": [
    "img = cv2.line(img,(270, 190),(220,170),(0,0,190),5)"
   ]
  },
  {
   "cell_type": "code",
   "execution_count": 15,
   "id": "e4714ed5",
   "metadata": {},
   "outputs": [],
   "source": [
    "img = cv2.line(img,(180, 170),(160,210),(0,0,190),5)"
   ]
  },
  {
   "cell_type": "code",
   "execution_count": 16,
   "id": "26aa2831",
   "metadata": {},
   "outputs": [],
   "source": [
    "img = cv2.line(img,(220, 170),(240,210),(0,0,190),5)"
   ]
  },
  {
   "cell_type": "code",
   "execution_count": 17,
   "id": "c6dbb9ff",
   "metadata": {},
   "outputs": [],
   "source": [
    "img = cv2.line(img,(160, 210),(200,270),(0,0,190),5)"
   ]
  },
  {
   "cell_type": "code",
   "execution_count": 18,
   "id": "0f8cfcb9",
   "metadata": {},
   "outputs": [],
   "source": [
    "img = cv2.line(img,(240, 210),(200,270),(0,0,190),5)"
   ]
  },
  {
   "cell_type": "code",
   "execution_count": null,
   "id": "cbbbf6cd",
   "metadata": {},
   "outputs": [],
   "source": [
    "cv2.imshow('Flower', img)\n",
    "cv2.waitKey(0)\n",
    "cv2.destroyAllWindows()"
   ]
  }
 ],
 "metadata": {
  "kernelspec": {
   "display_name": "Python 3",
   "language": "python",
   "name": "python3"
  },
  "language_info": {
   "codemirror_mode": {
    "name": "ipython",
    "version": 3
   },
   "file_extension": ".py",
   "mimetype": "text/x-python",
   "name": "python",
   "nbconvert_exporter": "python",
   "pygments_lexer": "ipython3",
   "version": "3.8.8"
  }
 },
 "nbformat": 4,
 "nbformat_minor": 5
}
